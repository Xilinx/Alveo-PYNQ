{
 "cells": [
  {
   "cell_type": "markdown",
   "metadata": {},
   "source": [
    "# Power Measurement on Alveo\n",
    "\n",
    "This notebook introduces the PYNQ on Alveo power measurement capabilities.\n",
    "\n",
    "Notice that power monitoring functionalities *will not work* on Amazon AWS F1.\n",
    "\n",
    "## Recording power data\n",
    "\n",
    "We rely on the `sensors` attribute of Alveo `Device` to get a dictionary of rails that are monitored. Each rail contains a voltage sensor and optionally an additional current sensor. We use `active_device` as target device for this notebook, which represent the first device in the system.\n",
    "\n",
    "First we'll get the available rails and print out their details"
   ]
  },
  {
   "cell_type": "code",
   "execution_count": 1,
   "metadata": {
    "scrolled": false
   },
   "outputs": [
    {
     "data": {
      "application/javascript": [
       "\n",
       "try {\n",
       "require(['notebook/js/codecell'], function(codecell) {\n",
       "  codecell.CodeCell.options_default.highlight_modes[\n",
       "      'magic_text/x-csrc'] = {'reg':[/^%%microblaze/]};\n",
       "  Jupyter.notebook.events.one('kernel_ready.Kernel', function(){\n",
       "      Jupyter.notebook.get_cells().map(function(cell){\n",
       "          if (cell.cell_type == 'code'){ cell.auto_highlight(); } }) ;\n",
       "  });\n",
       "});\n",
       "} catch (e) {};\n"
      ]
     },
     "metadata": {},
     "output_type": "display_data"
    },
    {
     "data": {
      "text/plain": [
       "{'0v85': XrtRail {name=0v85, voltage=Sensor {name=0v85, value=0.856V}},\n",
       " '12v_aux': XrtRail {name=12v_aux, voltage=Sensor {name=12v_aux_vol, value=12.132V}, current=Sensor {name=12v_aux_curr, value=1.0170000000000001A}, power=Sensor {name=12v_aux_power, value=12.338244000000001W}},\n",
       " '12v_pex': XrtRail {name=12v_pex, voltage=Sensor {name=12v_pex_vol, value=12.152000000000001V}, current=Sensor {name=12v_pex_curr, value=1.1400000000000001A}, power=Sensor {name=12v_pex_power, value=13.853280000000003W}},\n",
       " '12v_sw': XrtRail {name=12v_sw, voltage=Sensor {name=12v_sw, value=12.168000000000001V}},\n",
       " '1v8': XrtRail {name=1v8, voltage=Sensor {name=1v8, value=1.836V}},\n",
       " '3v3_aux': XrtRail {name=3v3_aux, voltage=Sensor {name=3v3_aux_vol, value=3.352V}},\n",
       " '3v3_pex': XrtRail {name=3v3_pex, voltage=Sensor {name=3v3_pex_vol, value=3.349V}, current=Sensor {name=3v3_pex_curr, value=0.0A}, power=Sensor {name=3v3_pex_power, value=0.0W}},\n",
       " 'mgt0v9avcc': XrtRail {name=mgt0v9avcc, voltage=Sensor {name=mgt0v9avcc, value=0.911V}},\n",
       " 'mgtavtt': XrtRail {name=mgtavtt, voltage=Sensor {name=mgtavtt, value=1.204V}},\n",
       " 'sys_5v5': XrtRail {name=sys_5v5, voltage=Sensor {name=sys_5v5, value=5.517V}},\n",
       " 'vccint': XrtRail {name=vccint, voltage=Sensor {name=vccint_vol, value=0.851V}, current=Sensor {name=vccint_curr, value=11.736A}, power=Sensor {name=vccint_power, value=9.987336W}}}"
      ]
     },
     "execution_count": 1,
     "metadata": {},
     "output_type": "execute_result"
    }
   ],
   "source": [
    "from pynq import Device\n",
    "\n",
    "sensors = Device.active_device.sensors\n",
    "sensors"
   ]
  },
  {
   "cell_type": "markdown",
   "metadata": {},
   "source": [
    "To get the value programatically each sensor has a `.value` property that returns the currently sampled voltage or current in `V` or `A` as appropriate. The value is resampled on each access of the property. For rails that have both a voltage and current sensor the power is also available directly as a derived sensor."
   ]
  },
  {
   "cell_type": "code",
   "execution_count": 2,
   "metadata": {},
   "outputs": [
    {
     "data": {
      "text/plain": [
       "0.851"
      ]
     },
     "execution_count": 2,
     "metadata": {},
     "output_type": "execute_result"
    }
   ],
   "source": [
    "sensors['vccint'].voltage.value"
   ]
  },
  {
   "cell_type": "markdown",
   "metadata": {},
   "source": [
    "The `pmbus` sub-package provides a `DataRecorder` class than periodically sample sensors while other code is running. It takes the sensors to record as construction parameters. For this example we are going to record the power of the two 12V supplies to the board to get an approximation of total board power and the power going to the internals of the FPGA."
   ]
  },
  {
   "cell_type": "code",
   "execution_count": 3,
   "metadata": {},
   "outputs": [],
   "source": [
    "from pynq.pmbus import DataRecorder\n",
    "\n",
    "recorder = DataRecorder(sensors[\"12v_aux\"].power,\n",
    "                        sensors[\"12v_pex\"].power,\n",
    "                        sensors[\"vccint\"].power)"
   ]
  },
  {
   "cell_type": "markdown",
   "metadata": {},
   "source": [
    "The target for our power measurements will be the `mmult` accelerator shown in the notebook [1-efficient-accelerator-scheduling](./1-efficient-accelerator-scheduling.ipynb).\n",
    "\n",
    "To proceed, we first have to download the overlay and instantiate the required buffers."
   ]
  },
  {
   "cell_type": "code",
   "execution_count": 4,
   "metadata": {},
   "outputs": [],
   "source": [
    "import pynq\n",
    "import numpy as np\n",
    "import time\n",
    "import os\n",
    "\n",
    "KERNEL_SIZE = 512\n",
    "KERNEL_SHAPE = (KERNEL_SIZE, KERNEL_SIZE)\n",
    "\n",
    "ol = pynq.Overlay('advanced.xclbin')\n",
    "mmult = ol.mmult_1\n",
    "\n",
    "in_a = pynq.allocate(shape=KERNEL_SHAPE, dtype='i4')\n",
    "in_b = pynq.allocate(shape=KERNEL_SHAPE, dtype='i4')\n",
    "out = pynq.allocate(shape=KERNEL_SHAPE, dtype='i4')\n",
    "in_a[:] = np.random.randint(100, size=KERNEL_SHAPE, dtype='i4')\n",
    "in_b[:] = np.random.randint(100, size=KERNEL_SHAPE, dtype='i4')"
   ]
  },
  {
   "cell_type": "markdown",
   "metadata": {},
   "source": [
    "We can now use the `record` function to sample the sensors at a specified interval. Using the `record` function in a `with` statement means that the recording will stop automatically at the end of the block even if exceptions or other abnormal control flow occurs. In this example we are sampling every 100 ms.\n",
    "\n",
    "We use the `%timeit` magic to run the kernel multiple times, so that we can actually see a noticeable power draw on the FPGA. "
   ]
  },
  {
   "cell_type": "code",
   "execution_count": 5,
   "metadata": {},
   "outputs": [
    {
     "name": "stdout",
     "output_type": "stream",
     "text": [
      "3.56 ms ± 3.64 µs per loop (mean ± std. dev. of 7 runs, 100 loops each)\n"
     ]
    }
   ],
   "source": [
    "with recorder.record(0.1): # Sample every 0.1 seconds\n",
    "    time.sleep(3)\n",
    "    recorder.mark()\n",
    "    in_a.sync_to_device()\n",
    "    in_b.sync_to_device()\n",
    "    %timeit mmult.call(in_a, in_b, out)\n",
    "    out.sync_from_device()\n",
    "    recorder.mark()\n",
    "    time.sleep(3)"
   ]
  },
  {
   "cell_type": "markdown",
   "metadata": {},
   "source": [
    "## Visualizing power data\n",
    "\n",
    "The DataRecorder exposes the data as a Pandas DataFrame. Pandas is a widely used library for data manipulation providing easy methods for selecting, plotting and performing computations on tabular data."
   ]
  },
  {
   "cell_type": "code",
   "execution_count": 6,
   "metadata": {},
   "outputs": [],
   "source": [
    "f = recorder.frame"
   ]
  },
  {
   "cell_type": "markdown",
   "metadata": {},
   "source": [
    "To get a quick feel for the data we can use the `head` function of the dataframe to return the first five entries. Each entry is indexed by the time the measurement was taken with the columns being the `V` or `A` measurement as appropriate for the sensor. There is also a _Mark_ column that increments each time the `.mark` or `.record` functions are called and can be used to easily separate out the various phases of execution"
   ]
  },
  {
   "cell_type": "code",
   "execution_count": 7,
   "metadata": {},
   "outputs": [
    {
     "data": {
      "text/html": [
       "<div>\n",
       "<style scoped>\n",
       "    .dataframe tbody tr th:only-of-type {\n",
       "        vertical-align: middle;\n",
       "    }\n",
       "\n",
       "    .dataframe tbody tr th {\n",
       "        vertical-align: top;\n",
       "    }\n",
       "\n",
       "    .dataframe thead th {\n",
       "        text-align: right;\n",
       "    }\n",
       "</style>\n",
       "<table border=\"1\" class=\"dataframe\">\n",
       "  <thead>\n",
       "    <tr style=\"text-align: right;\">\n",
       "      <th></th>\n",
       "      <th>Mark</th>\n",
       "      <th>12v_aux_power</th>\n",
       "      <th>12v_pex_power</th>\n",
       "      <th>vccint_power</th>\n",
       "    </tr>\n",
       "  </thead>\n",
       "  <tbody>\n",
       "    <tr>\n",
       "      <th>2020-01-06 15:03:57.803833</th>\n",
       "      <td>0.0</td>\n",
       "      <td>12.622811</td>\n",
       "      <td>13.806738</td>\n",
       "      <td>10.028184</td>\n",
       "    </tr>\n",
       "    <tr>\n",
       "      <th>2020-01-06 15:03:57.912603</th>\n",
       "      <td>0.0</td>\n",
       "      <td>12.622811</td>\n",
       "      <td>13.767083</td>\n",
       "      <td>10.028184</td>\n",
       "    </tr>\n",
       "    <tr>\n",
       "      <th>2020-01-06 15:03:58.017679</th>\n",
       "      <td>0.0</td>\n",
       "      <td>12.560760</td>\n",
       "      <td>13.839989</td>\n",
       "      <td>9.987336</td>\n",
       "    </tr>\n",
       "    <tr>\n",
       "      <th>2020-01-06 15:03:58.122756</th>\n",
       "      <td>0.0</td>\n",
       "      <td>12.517371</td>\n",
       "      <td>13.928598</td>\n",
       "      <td>10.000952</td>\n",
       "    </tr>\n",
       "    <tr>\n",
       "      <th>2020-01-06 15:03:58.227834</th>\n",
       "      <td>0.0</td>\n",
       "      <td>12.486915</td>\n",
       "      <td>13.892022</td>\n",
       "      <td>10.106476</td>\n",
       "    </tr>\n",
       "  </tbody>\n",
       "</table>\n",
       "</div>"
      ],
      "text/plain": [
       "                            Mark  12v_aux_power  12v_pex_power  vccint_power\n",
       "2020-01-06 15:03:57.803833   0.0      12.622811      13.806738     10.028184\n",
       "2020-01-06 15:03:57.912603   0.0      12.622811      13.767083     10.028184\n",
       "2020-01-06 15:03:58.017679   0.0      12.560760      13.839989      9.987336\n",
       "2020-01-06 15:03:58.122756   0.0      12.517371      13.928598     10.000952\n",
       "2020-01-06 15:03:58.227834   0.0      12.486915      13.892022     10.106476"
      ]
     },
     "execution_count": 7,
     "metadata": {},
     "output_type": "execute_result"
    }
   ],
   "source": [
    "f.head()"
   ]
  },
  {
   "cell_type": "markdown",
   "metadata": {},
   "source": [
    "We can create a new column in the table containing the board power. Board power can be usefully approximated by summation of the two 12V rails. We can also rename the `vccint` rail to something more readable. We can also clean up the data-frame by removing the two seperate 12V rails"
   ]
  },
  {
   "cell_type": "code",
   "execution_count": 8,
   "metadata": {},
   "outputs": [],
   "source": [
    "import pandas as pd\n",
    "powers = pd.DataFrame(index=f.index)\n",
    "powers['board_power'] = f['12v_aux_power'] + f['12v_pex_power']\n",
    "powers['fpga_power'] = f['vccint_power']"
   ]
  },
  {
   "cell_type": "markdown",
   "metadata": {},
   "source": [
    "Finally we can use built in Pandas plotting functionality to draw a graph of the power usage of both the FPGA and the entire board."
   ]
  },
  {
   "cell_type": "code",
   "execution_count": 9,
   "metadata": {},
   "outputs": [
    {
     "data": {
      "text/plain": [
       "Text(0, 0.5, 'Power (W)')"
      ]
     },
     "execution_count": 9,
     "metadata": {},
     "output_type": "execute_result"
    },
    {
     "data": {
      "image/png": "[encoded data removed]",
      "text/plain": [
       "<Figure size 432x288 with 1 Axes>"
      ]
     },
     "metadata": {
      "needs_background": "light"
     },
     "output_type": "display_data"
    }
   ],
   "source": [
    "%matplotlib inline\n",
    "ax = powers.plot()\n",
    "ax.set_ylabel(\"Power (W)\")"
   ]
  },
  {
   "cell_type": "markdown",
   "metadata": {},
   "source": [
    "## Cleaning up\n",
    "\n",
    "As last step, let's free buffers and accelerator context."
   ]
  },
  {
   "cell_type": "code",
   "execution_count": 10,
   "metadata": {},
   "outputs": [],
   "source": [
    "del in_a\n",
    "del in_b\n",
    "del out\n",
    "ol.free()"
   ]
  },
  {
   "cell_type": "markdown",
   "metadata": {},
   "source": [
    "Copyright (C) 2020 Xilinx, Inc"
   ]
  }
 ],
 "metadata": {
  "kernelspec": {
   "display_name": "Python 3",
   "language": "python",
   "name": "python3"
  },
  "language_info": {
   "codemirror_mode": {
    "name": "ipython",
    "version": 3
   },
   "file_extension": ".py",
   "mimetype": "text/x-python",
   "name": "python",
   "nbconvert_exporter": "python",
   "pygments_lexer": "ipython3",
   "version": "3.7.1"
  }
 },
 "nbformat": 4,
 "nbformat_minor": 2
}
