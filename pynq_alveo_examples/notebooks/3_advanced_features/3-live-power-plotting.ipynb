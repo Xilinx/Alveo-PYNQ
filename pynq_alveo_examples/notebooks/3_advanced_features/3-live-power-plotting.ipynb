{
 "cells": [
  {
   "cell_type": "markdown",
   "metadata": {},
   "source": [
    "# Showing Live Power with Plotly\n",
    "\n",
    "This notebook shows how PYNQ and Plotly can be used to create a live updating plot of the power used by the board. This notebook should be run in JupyterLab with the Plotly JupyterLab extensions installed.\n",
    "\n",
    "Please refer to the official Plotly [installation instructions](https://github.com/plotly/plotly.py#installation) and the [JupyterLab support](https://github.com/plotly/plotly.py#jupyterlab-support-python-35) section for more info on how to install everything you need.\n",
    "\n",
    "Notice that power monitoring functionalities *will not work* on Amazon AWS F1.\n",
    "\n",
    "## Reading and recording power data\n",
    "\n",
    "The first step is to read the power data from the board and get into a suitable format for passing to Plotly for display. Reading the data is accomplished through the `sensors` attribute of an Alveo `Device`. The `active_device` property will return the first device in the system which is what we will use for the rest of this notebook."
   ]
  },
  {
   "cell_type": "code",
   "execution_count": 1,
   "metadata": {},
   "outputs": [
    {
     "data": {
      "application/javascript": [
       "\n",
       "try {\n",
       "require(['notebook/js/codecell'], function(codecell) {\n",
       "  codecell.CodeCell.options_default.highlight_modes[\n",
       "      'magic_text/x-csrc'] = {'reg':[/^%%microblaze/]};\n",
       "  Jupyter.notebook.events.one('kernel_ready.Kernel', function(){\n",
       "      Jupyter.notebook.get_cells().map(function(cell){\n",
       "          if (cell.cell_type == 'code'){ cell.auto_highlight(); } }) ;\n",
       "  });\n",
       "});\n",
       "} catch (e) {};\n"
      ]
     },
     "metadata": {},
     "output_type": "display_data"
    },
    {
     "data": {
      "text/plain": [
       "{'0v85': XrtRail {name=0v85, voltage=Sensor {name=0v85, value=0.856V}},\n",
       " '12v_aux': XrtRail {name=12v_aux, voltage=Sensor {name=12v_aux_vol, value=12.133000000000001V}, current=Sensor {name=12v_aux_curr, value=1.367A}, power=Sensor {name=12v_aux_power, value=16.585811W}},\n",
       " '12v_pex': XrtRail {name=12v_pex, voltage=Sensor {name=12v_pex_vol, value=12.139000000000001V}, current=Sensor {name=12v_pex_curr, value=1.389A}, power=Sensor {name=12v_pex_power, value=16.861071000000003W}},\n",
       " '12v_sw': XrtRail {name=12v_sw, voltage=Sensor {name=12v_sw, value=12.138V}},\n",
       " '1v8': XrtRail {name=1v8, voltage=Sensor {name=1v8, value=1.834V}},\n",
       " '3v3_aux': XrtRail {name=3v3_aux, voltage=Sensor {name=3v3_aux_vol, value=3.347V}},\n",
       " '3v3_pex': XrtRail {name=3v3_pex, voltage=Sensor {name=3v3_pex_vol, value=3.362V}, current=Sensor {name=3v3_pex_curr, value=0.0A}, power=Sensor {name=3v3_pex_power, value=0.0W}},\n",
       " 'mgt0v9avcc': XrtRail {name=mgt0v9avcc, voltage=Sensor {name=mgt0v9avcc, value=0.911V}},\n",
       " 'mgtavtt': XrtRail {name=mgtavtt, voltage=Sensor {name=mgtavtt, value=1.204V}},\n",
       " 'sys_5v5': XrtRail {name=sys_5v5, voltage=Sensor {name=sys_5v5, value=5.5V}},\n",
       " 'vccint': XrtRail {name=vccint, voltage=Sensor {name=vccint_vol, value=0.851V}, current=Sensor {name=vccint_curr, value=14.612A}, power=Sensor {name=vccint_power, value=12.434811999999999W}}}"
      ]
     },
     "execution_count": 1,
     "metadata": {},
     "output_type": "execute_result"
    }
   ],
   "source": [
    "from pynq import Device\n",
    "\n",
    "sensors = Device.active_device.sensors\n",
    "sensors"
   ]
  },
  {
   "cell_type": "markdown",
   "metadata": {},
   "source": [
    "For measuring the power there are 3 rails of interest - the `12v_aux` and `12v_pex` rails which together account for the vast majority of power consumed by the board and the `vccint` rail which is the main FPGA power supply.\n",
    "\n",
    "To record the power data PYNQ has a `DataRecorder` class inside the `pmbus` module which will record data from the sensors directly into a Pandas dataframe that we can use with Plotly. The constructor takes the sensors we want to record."
   ]
  },
  {
   "cell_type": "code",
   "execution_count": 2,
   "metadata": {},
   "outputs": [],
   "source": [
    "from pynq.pmbus import DataRecorder\n",
    "\n",
    "recorder = DataRecorder(sensors[\"12v_aux\"].power,\n",
    "                        sensors[\"12v_pex\"].power,\n",
    "                        sensors[\"vccint\"].power)"
   ]
  },
  {
   "cell_type": "markdown",
   "metadata": {},
   "source": [
    "We can now get the dataframe"
   ]
  },
  {
   "cell_type": "code",
   "execution_count": 3,
   "metadata": {},
   "outputs": [],
   "source": [
    "import pandas as pd\n",
    "\n",
    "f = recorder.frame"
   ]
  },
  {
   "cell_type": "markdown",
   "metadata": {},
   "source": [
    "To start recording the sensor data call `DataRecorder.record` with the sampling rate in seconds - 10 times per second in this case"
   ]
  },
  {
   "cell_type": "code",
   "execution_count": 4,
   "metadata": {},
   "outputs": [
    {
     "data": {
      "text/plain": [
       "<pynq.pmbus.DataRecorder at 0x7f2b61f11780>"
      ]
     },
     "execution_count": 4,
     "metadata": {},
     "output_type": "execute_result"
    }
   ],
   "source": [
    "recorder.record(0.1)"
   ]
  },
  {
   "cell_type": "markdown",
   "metadata": {},
   "source": [
    "We can use Pandas to inspect the data we are recording"
   ]
  },
  {
   "cell_type": "code",
   "execution_count": 5,
   "metadata": {},
   "outputs": [
    {
     "data": {
      "text/html": [
       "<div>\n",
       "<style scoped>\n",
       "    .dataframe tbody tr th:only-of-type {\n",
       "        vertical-align: middle;\n",
       "    }\n",
       "\n",
       "    .dataframe tbody tr th {\n",
       "        vertical-align: top;\n",
       "    }\n",
       "\n",
       "    .dataframe thead th {\n",
       "        text-align: right;\n",
       "    }\n",
       "</style>\n",
       "<table border=\"1\" class=\"dataframe\">\n",
       "  <thead>\n",
       "    <tr style=\"text-align: right;\">\n",
       "      <th></th>\n",
       "      <th>Mark</th>\n",
       "      <th>12v_aux_power</th>\n",
       "      <th>12v_pex_power</th>\n",
       "      <th>vccint_power</th>\n",
       "    </tr>\n",
       "  </thead>\n",
       "  <tbody>\n",
       "    <tr>\n",
       "      <th>2019-12-20 17:05:58.434916</th>\n",
       "      <td>0.0</td>\n",
       "      <td>17.150994</td>\n",
       "      <td>16.781626</td>\n",
       "      <td>12.407580</td>\n",
       "    </tr>\n",
       "    <tr>\n",
       "      <th>2019-12-20 17:05:58.539089</th>\n",
       "      <td>0.0</td>\n",
       "      <td>16.991800</td>\n",
       "      <td>16.869752</td>\n",
       "      <td>12.366732</td>\n",
       "    </tr>\n",
       "    <tr>\n",
       "      <th>2019-12-20 17:05:58.641383</th>\n",
       "      <td>0.0</td>\n",
       "      <td>16.991800</td>\n",
       "      <td>16.869752</td>\n",
       "      <td>12.366732</td>\n",
       "    </tr>\n",
       "    <tr>\n",
       "      <th>2019-12-20 17:05:58.743488</th>\n",
       "      <td>0.0</td>\n",
       "      <td>17.663211</td>\n",
       "      <td>16.970756</td>\n",
       "      <td>12.274824</td>\n",
       "    </tr>\n",
       "    <tr>\n",
       "      <th>2019-12-20 17:05:58.845564</th>\n",
       "      <td>0.0</td>\n",
       "      <td>16.661355</td>\n",
       "      <td>16.740189</td>\n",
       "      <td>12.366732</td>\n",
       "    </tr>\n",
       "  </tbody>\n",
       "</table>\n",
       "</div>"
      ],
      "text/plain": [
       "                            Mark  12v_aux_power  12v_pex_power  vccint_power\n",
       "2019-12-20 17:05:58.434916   0.0      17.150994      16.781626     12.407580\n",
       "2019-12-20 17:05:58.539089   0.0      16.991800      16.869752     12.366732\n",
       "2019-12-20 17:05:58.641383   0.0      16.991800      16.869752     12.366732\n",
       "2019-12-20 17:05:58.743488   0.0      17.663211      16.970756     12.274824\n",
       "2019-12-20 17:05:58.845564   0.0      16.661355      16.740189     12.366732"
      ]
     },
     "execution_count": 5,
     "metadata": {},
     "output_type": "execute_result"
    }
   ],
   "source": [
    "f.head()"
   ]
  },
  {
   "cell_type": "markdown",
   "metadata": {},
   "source": [
    "## Plotting the Dataframe"
   ]
  },
  {
   "cell_type": "markdown",
   "metadata": {},
   "source": [
    "First we need to create a blank graph we can populate with data. Plotly does this by having a layout dictionary in which we specify the axes and labels"
   ]
  },
  {
   "cell_type": "code",
   "execution_count": 6,
   "metadata": {},
   "outputs": [
    {
     "data": {
      "application/vnd.jupyter.widget-view+json": {
       "model_id": "d9ac8628bb8c4d6b9a95bd8c30467e2b",
       "version_major": 2,
       "version_minor": 0
      },
      "text/plain": [
       "FigureWidget({\n",
       "    'data': [],\n",
       "    'layout': {'template': '...',\n",
       "               'xaxis': {'title': {'text': 'T…"
      ]
     },
     "metadata": {},
     "output_type": "display_data"
    }
   ],
   "source": [
    "import plotly.graph_objs as go\n",
    "\n",
    "layout = {\n",
    "    'xaxis': {\n",
    "        'title': 'Time (s)'\n",
    "    },\n",
    "    'yaxis': {\n",
    "        'title': 'Power (W)',\n",
    "        'rangemode': 'tozero',\n",
    "        'autorange': True\n",
    "    }\n",
    "}\n",
    "\n",
    "plot = go.FigureWidget(layout=layout)\n",
    "plot"
   ]
  },
  {
   "cell_type": "markdown",
   "metadata": {},
   "source": [
    "Next we need a function to actually plot the data. While we could the the dataframe directly from the DataRecorder we can format it to be more immediately informative as well as only display the most recently recorded samples. Here we make use of a number of plotly functions to limit and average the data so that we get both instantaneous and moving average power over a specified period of time."
   ]
  },
  {
   "cell_type": "code",
   "execution_count": 7,
   "metadata": {},
   "outputs": [],
   "source": [
    "def update_data(frame, start, end, plot):\n",
    "    ranged = frame[start:end]\n",
    "    average_ranged = frame[start-pd.tseries.offsets.Second(5):end]\n",
    "    rolling = (average_ranged['12v_aux_power'] + average_ranged['12v_pex_power']).rolling(\n",
    "        pd.tseries.offsets.Second(5)\n",
    "    ).mean()[ranged.index]\n",
    "    powers = pd.DataFrame(index=ranged.index)\n",
    "    powers['board_power'] = ranged['12v_aux_power'] + ranged['12v_pex_power']\n",
    "    powers['rolling'] = rolling\n",
    "    data = [\n",
    "        go.Scatter(x=powers.index, y=powers['board_power'], name=\"Board Power\"),\n",
    "        go.Scatter(x=powers.index, y=powers['rolling'], name=\"5 Second Avg\")\n",
    "    ]\n",
    "    plot.update(data=data)"
   ]
  },
  {
   "cell_type": "markdown",
   "metadata": {},
   "source": [
    "To actually update the graph in a live fashion we need to create a new thread that will update our graph periodically"
   ]
  },
  {
   "cell_type": "code",
   "execution_count": 8,
   "metadata": {},
   "outputs": [],
   "source": [
    "import threading\n",
    "import time\n",
    "\n",
    "do_update = True\n",
    "\n",
    "def thread_func():\n",
    "    while do_update:\n",
    "        now = pd.Timestamp.fromtimestamp(time.time())\n",
    "        past = now - pd.tseries.offsets.Second(60)\n",
    "        update_data(recorder.frame, past, now, plot)\n",
    "        time.sleep(0.5)\n",
    "\n",
    "from threading import Thread\n",
    "t = Thread(target=thread_func)\n",
    "t.start()"
   ]
  },
  {
   "cell_type": "markdown",
   "metadata": {},
   "source": [
    "Now the graph is updating try running other notebooks to see how power consumption changes based on load.\n",
    "\n",
    "## Cleaning Up\n",
    "\n",
    "To clean up we need to stop both the update thread we created and the DataRecorder"
   ]
  },
  {
   "cell_type": "code",
   "execution_count": 9,
   "metadata": {},
   "outputs": [],
   "source": [
    "do_update = False\n",
    "t.join()\n",
    "recorder.stop()"
   ]
  },
  {
   "cell_type": "markdown",
   "metadata": {},
   "source": [
    "Copyright (C) 2020 Xilinx, Inc"
   ]
  }
 ],
 "metadata": {
  "kernelspec": {
   "display_name": "Python 3",
   "language": "python",
   "name": "python3"
  },
  "language_info": {
   "codemirror_mode": {
    "name": "ipython",
    "version": 3
   },
   "file_extension": ".py",
   "mimetype": "text/x-python",
   "name": "python",
   "nbconvert_exporter": "python",
   "pygments_lexer": "ipython3",
   "version": "3.7.1"
  }
 },
 "nbformat": 4,
 "nbformat_minor": 4
}
