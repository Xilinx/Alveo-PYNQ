{
 "cells": [
  {
   "cell_type": "markdown",
   "metadata": {},
   "source": [
    "# Introduction to Building Bitstream with Vitis\n",
    "\n",
    "This notebook introduces how to use the Vitis command line to build xclbin files. PYNQ works with any xclbin file so the steps here are not PYNQ-specific. The aim is to produce an xclbin file that contains a single vector addition kernel that can be used with the introductory notebooks.\n",
    "\n",
    "The following prerequisites should be installed: Vitis; and a Alveo development platform.\n",
    "\n",
    "## Writing the Kernel in C\n",
    "\n",
    "As the first example we are going to create a simple accelerator to add together two arrays of numbers. First we define the prototype of the function which will take three array pointers (two for the inputs and one for the output) and the number of elements to operate on.\n",
    "\n",
    "```C\n",
    "    void vadd(int* in_a, int* in_b, int* out_c, int count) {\n",
    "```\n",
    "\n",
    "Next we need to tell the compiler how the arguments should be interpreted. There are two main types of argument in Vivado HLS that we need to consider: AXI-lite slave connections which are generally used for registers that provide configuration and AXI master connections which the accelerator uses to access large blocks of data. For `vadd` the three array arguments map well to AXI master ports as the acccelerator will be reading and writing data from memory as well as an AXI-lite port to set the address of the buffer. The `count` argument just needs an AXI-lite register. These types are specified using pragmas in the source code.\n",
    "\n",
    "```C\n",
    "    #pragma HLS INTERFACE m_axi port=in_a offset=slave\n",
    "    #pragma HLS INTERFACE s_axilte port=in_a bundle=control\n",
    "    #pragma HLS INTERFACE m_axi port=in_b offset=slave\n",
    "    #pragma HLS INTERFACE s_axilte port=in_b bundle=control\n",
    "    #pragma HLS INTERFACE m_axi port=out_c offset=slave\n",
    "    #pragma HLS INTERFACE s_axilte port=out_c bundle=control\n",
    "    #pragma HLS INTERFACE s_axilite port=count bundle=control\n",
    "```\n",
    "\n",
    "We also need to specify how the accelerator should be controlled. For a Vitis accelerator this should usually be via the same AXI-lite interface as other arguments. This is specified using a pragma tied to the `return` port\n",
    "\n",
    "```C\n",
    "    #pragma HLS INTERFACE s_axilite port=return bundle=control\n",
    "```\n",
    "\n",
    "The reste of the function is a simple loop that performs the addition\n",
    "\n",
    "```C\n",
    "        for (int i = 0; i < count; ++i) {\n",
    "            *out_c++ = *in_a++ + *in_b++;\n",
    "        }\n",
    "    }\n",
    "```\n",
    "\n",
    "Writing all of into a single file we end up with the following file."
   ]
  },
  {
   "cell_type": "code",
   "execution_count": null,
   "metadata": {},
   "outputs": [],
   "source": [
    "%%writefile vadd.c\n",
    "\n",
    "void vadd(int* in_a, int* in_b, int* out_c, int count) {\n",
    "#pragma HLS INTERFACE m_axi port=in_a offset=slave\n",
    "#pragma HLS INTERFACE s_axilite port=in_a bundle=control\n",
    "#pragma HLS INTERFACE m_axi port=in_b offset=slave\n",
    "#pragma HLS INTERFACE s_axilite port=in_b bundle=control\n",
    "#pragma HLS INTERFACE m_axi port=out_c offset=slave\n",
    "#pragma HLS INTERFACE s_axilite port=out_c bundle=control\n",
    "#pragma HLS INTERFACE s_axilite port=count bundle=control\n",
    "#pragma HLS INTERFACE s_axilite port=return bundle=control\n",
    "    for (int i = 0; i < count; ++i) {\n",
    "        *out_c++ = *in_a++ + *in_b++;\n",
    "    }\n",
    "}"
   ]
  },
  {
   "cell_type": "markdown",
   "metadata": {},
   "source": [
    "## Compiling the accelerator\n",
    "\n",
    "Creating the bitstream with Vitis is split into two phases analagous to a conventional C or C++ flow. First each kernel is compiled to create a `.xo` file after which the compiled kernels are linked together to generate the `.xclbin` file.\n",
    "\n",
    "To compile the kernel we first need to set up the environment. For this we need to specify the platform that we should build against. In this example we point at the U200 DSA installed in it's default location."
   ]
  },
  {
   "cell_type": "code",
   "execution_count": null,
   "metadata": {},
   "outputs": [],
   "source": [
    "import glob\n",
    "\n",
    "platform = glob.glob(\"/opt/xilinx/platforms/*/*.xpfm\")[0]"
   ]
  },
  {
   "cell_type": "markdown",
   "metadata": {},
   "source": [
    "Next we call `xocc` with the `-c` option to compile the kernel. The other parameters are\n",
    "\n",
    " * `--kernel` - The name of the kernel in the source file as multiple kernels can be contained in a single input\n",
    " * `-f platform` - The platform to compile the kernel for\n",
    " * `-o file` - The name of the output object to write\n",
    " * `-t type` - The type of design to create - in this case hardware\n",
    " \n",
    "In addition to the Vitis specific options most GCC options can be passed - e.g. `-I` for include paths and `-D` for preprocessor directives"
   ]
  },
  {
   "cell_type": "code",
   "execution_count": null,
   "metadata": {},
   "outputs": [],
   "source": [
    "!v++ -c vadd.c -t hw --kernel vadd -f $platform -o vadd.xo"
   ]
  },
  {
   "cell_type": "markdown",
   "metadata": {},
   "source": [
    "## Linking the system\n",
    "\n",
    "The final step for creating the `.xclbin` is linking the system which uses `xocc` with the `-l` flag. As we are happy with the default options we only need to provide the following arguments\n",
    "\n",
    " * `-o` to again specify the output file name\n",
    " * `-f` to specify the platform\n",
    " * `-t` to specify the compile type which should match the compile step\n",
    " * The `.xo` files to link together\n",
    " \n",
    "Note that this can take a considerable amount of time depending on the power of the build computer."
   ]
  },
  {
   "cell_type": "code",
   "execution_count": null,
   "metadata": {},
   "outputs": [],
   "source": [
    "!v++ -l -t hw -o vadd.xclbin -f $platform vadd.xo"
   ]
  },
  {
   "cell_type": "markdown",
   "metadata": {},
   "source": [
    "## Testing the design with PYNQ\n",
    "\n",
    "Now we can try our newly generated bitstream with PYNQ by re-using the code present in the introductory notebook."
   ]
  },
  {
   "cell_type": "code",
   "execution_count": null,
   "metadata": {},
   "outputs": [],
   "source": [
    "import pynq\n",
    "import numpy as np\n",
    "\n",
    "ol = pynq.Overlay('vadd.xclbin')\n",
    "\n",
    "vadd = ol.vadd_1\n",
    "\n",
    "in1 = pynq.allocate((1024,), 'u4')\n",
    "in2 = pynq.allocate((1024,), 'u4')\n",
    "out = pynq.allocate((1024,), 'u4')\n",
    "\n",
    "in1[:] = np.random.randint(low=0, high=100, size=(1024,), dtype='u4')\n",
    "in2[:] = 200\n",
    "\n",
    "in1.sync_to_device()\n",
    "in2.sync_to_device()\n",
    "\n",
    "vadd.call(in1, in2, out, 1024)\n",
    "\n",
    "out.sync_from_device()\n",
    "np.array_equal(in1 + in2, out)"
   ]
  },
  {
   "cell_type": "markdown",
   "metadata": {},
   "source": [
    "For more details on how to rebuild the rest of the bitstreams used in the example notebooks check out the repository at https://github.com/Xilinx/Alveo-PYNQ\n",
    "\n",
    "Copyright (C) 2020 Xilinx, Inc"
   ]
  }
 ],
 "metadata": {
  "kernelspec": {
   "display_name": "Python 3",
   "language": "python",
   "name": "python3"
  },
  "language_info": {
   "codemirror_mode": {
    "name": "ipython",
    "version": 3
   },
   "file_extension": ".py",
   "mimetype": "text/x-python",
   "name": "python",
   "nbconvert_exporter": "python",
   "pygments_lexer": "ipython3",
   "version": "3.7.4"
  }
 },
 "nbformat": 4,
 "nbformat_minor": 4
}
